{
 "metadata": {
  "language_info": {
   "codemirror_mode": {
    "name": "ipython",
    "version": 3
   },
   "file_extension": ".py",
   "mimetype": "text/x-python",
   "name": "python",
   "nbconvert_exporter": "python",
   "pygments_lexer": "ipython3",
   "version": "3.8.5"
  },
  "orig_nbformat": 2,
  "kernelspec": {
   "name": "python385jvsc74a57bd0dfb266c6734d3ead590a98ae336d5335cc5957c6796a498cc7f8c5fc53f26327",
   "display_name": "Python 3.8.5 64-bit ('anaconda3': virtualenv)"
  },
  "metadata": {
   "interpreter": {
    "hash": "dfb266c6734d3ead590a98ae336d5335cc5957c6796a498cc7f8c5fc53f26327"
   }
  }
 },
 "nbformat": 4,
 "nbformat_minor": 2,
 "cells": [
  {
   "cell_type": "code",
   "execution_count": 50,
   "metadata": {},
   "outputs": [],
   "source": [
    "from selenium import webdriver\n",
    "from bs4 import BeautifulSoup\n",
    "import requests\n",
    "import pandas as pd\n",
    "import time"
   ]
  },
  {
   "cell_type": "code",
   "execution_count": 6,
   "metadata": {},
   "outputs": [],
   "source": [
    "driver = webdriver.Chrome('/Users/soroush/Downloads/chromedriver')"
   ]
  },
  {
   "cell_type": "code",
   "execution_count": 7,
   "metadata": {},
   "outputs": [],
   "source": [
    "#driver.get('https://www.digikala.com/product/dkp-3893718')\n",
    "driver.get('http://mobile140.com/fa/product/%DA%AF%D9%88%D8%B4%DB%8C-%D9%85%D9%88%D8%A8%D8%A7%DB%8C%D9%84/104-%DA%AF%D9%88%D8%B4%DB%8C-%D9%85%D9%88%D8%A8%D8%A7%DB%8C%D9%84-%D8%B3%D8%A7%D9%85%D8%B3%D9%88%D9%86%DA%AF-%D9%85%D8%AF%D9%84-%DA%AF%D9%84%DA%A9%D8%B3%DB%8C-%D8%A2-10-%D8%A7%D8%B3-%D8%AF%D9%88-%D8%B3%DB%8C%D9%85-%DA%A9%D8%A7%D8%B1%D8%AA-%D8%B8%D8%B1%D9%81%DB%8C%D8%AA-32-%DA%AF%DB%8C%DA%AF%D8%A7%D8%A8%D8%A7%DB%8C%D8%AA-%D8%B1%D9%85-2-%DA%AF%DB%8C%DA%AF%D8%A7%D8%A8%D8%A7%DB%8C%D8%AA.html')"
   ]
  },
  {
   "cell_type": "code",
   "execution_count": 70,
   "metadata": {},
   "outputs": [],
   "source": [
    "def digikala():\n",
    "    digi_price_list = []\n",
    "    digi_color_list = []\n",
    "    try :\n",
    "        for i in range(1, 10) :\n",
    "            driver.find_element_by_xpath('//*[@id=\"content\"]/div[1]/div/article/section[1]/div[2]/div[2]/div[3]/div[1]/ul/li[{}]'.format(i))    .click()\n",
    "            digi_color_list.append(driver.find_element_by_xpath('//*[@id=\"content\"]/div[1]/div/article/section[1]/div[2]/div[2]/div[3]/div[1]/div/span').text)\n",
    "            time.sleep(1)\n",
    "            digi_price_list.append(driver.find_element_by_xpath('//*[@id=\"content\"]/div[1]/div/article/section[1]/div[2]/div[3]/div/div[1]/div[1]/div[11]/div[2]/div').text.replace(',', ''))\n",
    "    except :\n",
    "        if i == 1 :\n",
    "            return 'Out of Stock'\n",
    "    digi_price_list = list(map(int, digi_price_list))\n",
    "\n",
    "    return digi_price_list, digi_color_list"
   ]
  },
  {
   "cell_type": "code",
   "execution_count": 55,
   "metadata": {},
   "outputs": [],
   "source": [
    "def kalatik():\n",
    "    kalatik_price_list = []\n",
    "    kalatik_color_list = []\n",
    "    try :\n",
    "        for i in range(1, 10) :\n",
    "            driver.find_element_by_xpath('//*[@id=\"color_to_pick_list\"]/li[{}]'.format(i)).click()\n",
    "            kalatik_color_list.append(driver.find_element_by_xpath('//*[@id=\"color_to_pick_list\"]/li[{}]'.format(i)).text)\n",
    "            time.sleep(1)\n",
    "            kalatik_price_list.append(driver.find_element_by_xpath('//*[@id=\"our_price_display\"]').text.replace('تومان', '').replace(',', ''))\n",
    "    except :\n",
    "        if i == 1 :\n",
    "            return 'Out of Stock'\n",
    "\n",
    "    return kalatik_price_list, kalatik_color_list"
   ]
  },
  {
   "cell_type": "code",
   "execution_count": 41,
   "metadata": {},
   "outputs": [],
   "source": [
    "def mobile140():\n",
    "    mobile_price_list = []\n",
    "    mobile_color_list = []\n",
    "    try :\n",
    "        for i in range(1, 10) :\n",
    "            try :\n",
    "                driver.find_element_by_xpath('//*[@id=\"single__page\"]/div/div[2]/div[2]/div/div[3]/div[4]/div/div/ul/li[{}]/label/input'.format(i)).click()\n",
    "                time.sleep(2)\n",
    "                mobile_color_list.append(driver.find_element_by_xpath('//*[@id=\"single__page\"]/div/div[2]/div[2]/div/div[3]/div[4]/div/div/ul/li[{}]/label/span'.format(i)).text)\n",
    "            except :\n",
    "                driver.find_element_by_xpath('//*[@id=\"single__page\"]/div/div[2]/div[2]/div/div[3]/div[3]/div/div/ul/li[{}]/label/input'.format(i)).click()\n",
    "                time.sleep(2)\n",
    "                mobile_color_list.append(driver.find_element_by_xpath('//*[@id=\"single__page\"]/div/div[2]/div[2]/div/div[3]/div[3]/div/div/ul/li[{}]/label/span'.format(i)).text)\n",
    "            try :\n",
    "                mobile_price_list.append(driver.find_element_by_xpath('//*[@id=\"single__page\"]/div/div[2]/div[2]/div/div[3]/div[3]/span[1]/span').text.replace(',', ''))\n",
    "            except :\n",
    "                mobile_price_list.append('Out of Stock')\n",
    "    except :\n",
    "        pass\n",
    "    return mobile_price_list, mobile_color_list"
   ]
  },
  {
   "cell_type": "code",
   "execution_count": 48,
   "metadata": {},
   "outputs": [
    {
     "output_type": "execute_result",
     "data": {
      "text/plain": [
       "(['9998000', 'Out of Stock'], ['آبی', 'بنفش'])"
      ]
     },
     "metadata": {},
     "execution_count": 48
    }
   ],
   "source": [
    "mobile140()"
   ]
  },
  {
   "cell_type": "code",
   "execution_count": 61,
   "metadata": {},
   "outputs": [],
   "source": []
  },
  {
   "cell_type": "code",
   "execution_count": 64,
   "metadata": {},
   "outputs": [
    {
     "output_type": "error",
     "ename": "XPathEvalError",
     "evalue": "Invalid expression",
     "traceback": [
      "\u001b[0;31m---------------------------------------------------------------------------\u001b[0m",
      "\u001b[0;31mXPathEvalError\u001b[0m                            Traceback (most recent call last)",
      "\u001b[0;32m<ipython-input-64-dd1a7c4cb653>\u001b[0m in \u001b[0;36m<module>\u001b[0;34m\u001b[0m\n\u001b[0;32m----> 1\u001b[0;31m \u001b[0mdom\u001b[0m\u001b[0;34m.\u001b[0m\u001b[0mxpath\u001b[0m\u001b[0;34m(\u001b[0m\u001b[0;34m'//*[@id=\"single__page\"]/div/div[2]/div[2]/div/div[3]/div[4]/div/div/ul/li[{}]/label/input'\u001b[0m\u001b[0;34m)\u001b[0m\u001b[0;34m[\u001b[0m\u001b[0;36m0\u001b[0m\u001b[0;34m]\u001b[0m\u001b[0;34m.\u001b[0m\u001b[0mtext\u001b[0m\u001b[0;34m\u001b[0m\u001b[0;34m\u001b[0m\u001b[0m\n\u001b[0m",
      "\u001b[0;32msrc/lxml/etree.pyx\u001b[0m in \u001b[0;36mlxml.etree._Element.xpath\u001b[0;34m()\u001b[0m\n",
      "\u001b[0;32msrc/lxml/xpath.pxi\u001b[0m in \u001b[0;36mlxml.etree.XPathElementEvaluator.__call__\u001b[0;34m()\u001b[0m\n",
      "\u001b[0;32msrc/lxml/xpath.pxi\u001b[0m in \u001b[0;36mlxml.etree._XPathEvaluatorBase._handle_result\u001b[0;34m()\u001b[0m\n",
      "\u001b[0;31mXPathEvalError\u001b[0m: Invalid expression"
     ]
    }
   ],
   "source": []
  },
  {
   "cell_type": "code",
   "execution_count": null,
   "metadata": {},
   "outputs": [],
   "source": []
  }
 ]
}